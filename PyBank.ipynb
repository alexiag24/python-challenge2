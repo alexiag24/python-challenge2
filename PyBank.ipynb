{
 "cells": [
  {
   "cell_type": "code",
   "execution_count": 1,
   "metadata": {},
   "outputs": [],
   "source": [
    "#dependencies \n",
    "import os\n",
    "import csv\n",
    "budget_data = os.path.join(\"PyBank/Resources/budget_data.csv\")"
   ]
  },
  {
   "cell_type": "code",
   "execution_count": 2,
   "metadata": {},
   "outputs": [],
   "source": [
    "#making empty list\n",
    "dates = []\n",
    "profits = []\n",
    "Number_months =0\n",
    "total_p =0\n",
    "value = 0\n",
    "change = 0"
   ]
  },
  {
   "cell_type": "code",
   "execution_count": 5,
   "metadata": {},
   "outputs": [],
   "source": [
    "#reading file\n",
    "with open(budget_data, newline = \"\") as csvfile:\n",
    "    csvreader = csv.reader(csvfile, delimiter = \",\")\n",
    "    csv_header = next(csvreader)\n",
    "    first_row = next(csvreader)\n",
    "    Number_months += 1\n",
    "    total_p += int(first_row[1])\n",
    "    value = int(first_row[1])\n",
    "    \n",
    "    #going through the rows\n",
    "    for row in csvreader:\n",
    "        dates.append(row[0])\n",
    "        \n",
    "        #finding changes\n",
    "        change = int(row[1])-value\n",
    "        profits.append(change)\n",
    "        value = int(row[1])\n",
    "        \n",
    "        #finding month total\n",
    "        Number_months += 1\n",
    "        total_p = total_p + int(row[1])\n",
    "\n",
    "        greatest_increase = max(profits)\n",
    "    greatest_index = profits.index(greatest_increase)\n",
    "    greatest_date = dates[greatest_index]\n",
    "    greatest_decrease = min(profits)\n",
    "    worst_index = profits.index(greatest_decrease)\n",
    "    worst_date = dates[worst_index]\n",
    "    avg_change = sum(profits)/len(profits)"
   ]
  },
  {
   "cell_type": "code",
   "execution_count": 6,
   "metadata": {},
   "outputs": [
    {
     "name": "stdout",
     "output_type": "stream",
     "text": [
      "~~~~~~~~~~~~~~~~~~~~~~~~~~~~~\n",
      "Total Months: 172\n",
      "Total: $45128396\n",
      "Average Change: $-8311.11\n",
      "Greatest Increase in Profits: Aug-16 ($1862002)\n",
      "Greatest Decrease in Profits: Feb-14 ($-1825558)\n"
     ]
    }
   ],
   "source": [
    "print(\"~~~~~~~~~~~~~~~~~~~~~~~~~~~~~\")\n",
    "print(f\"Total Months: {str(Number_months)}\")\n",
    "print(f\"Total: ${str(total_p)}\")\n",
    "print(f\"Average Change: ${str(round(avg_change,2))}\")\n",
    "print(f\"Greatest Increase in Profits: {greatest_date} (${str(greatest_increase)})\")\n",
    "print(f\"Greatest Decrease in Profits: {worst_date} (${str(greatest_decrease)})\")\n",
    "\n",
    "\n",
    "output = open(\"output.txt\", \"w\")\n",
    "line1= \"Financial analysis\"\n",
    "line2 = \"~~~~~~~~~~~~~~~~~~~~~~~~~~~~\"\n",
    "line3 = str(f\"Total Months: {str(Number_months)}\")\n",
    "line4 = str(f\"Total: ${str(total_p)}\")\n",
    "line5 = str(f\"Average Change: ${str(round(avg_change,2))}\")\n",
    "line6 = str(f\"Greatest Increase in Profits: {greatest_date} (${str(greatest_increase)})\")\n",
    "line7 = str(f\"Greatest Decrease in Profits: {worst_date} (${str(greatest_decrease)})\")\n",
    "line= output.write('{}\\n{}\\n{}\\n{}\\n{}\\n{}\\n{}\\n'.format(line1,line2,line3,line4,line5,line6,line7))\n",
    "\n"
   ]
  }
 ],
 "metadata": {
  "kernelspec": {
   "display_name": "Python 3",
   "language": "python",
   "name": "python3"
  },
  "language_info": {
   "codemirror_mode": {
    "name": "ipython",
    "version": 3
   },
   "file_extension": ".py",
   "mimetype": "text/x-python",
   "name": "python",
   "nbconvert_exporter": "python",
   "pygments_lexer": "ipython3",
   "version": "3.11.4"
  },
  "orig_nbformat": 4
 },
 "nbformat": 4,
 "nbformat_minor": 2
}
